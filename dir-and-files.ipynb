{
 "cells": [
  {
   "cell_type": "code",
   "execution_count": 1,
   "metadata": {},
   "outputs": [
    {
     "name": "stdout",
     "output_type": "stream",
     "text": [
      "Каталоги:\n",
      "['.git']\n",
      "\n",
      "Файлы:\n",
      "['builting-functions.ipynb', 'dir-and-files.ipynb']\n",
      "\n",
      "Все файлы и каталоги:\n",
      "['builting-functions.ipynb', '.git', 'dir-and-files.ipynb']\n"
     ]
    }
   ],
   "source": [
    "import os\n",
    "\n",
    "def list_files_and_dirs(path):\n",
    "    if not os.path.exists(path):\n",
    "        print(\"Указанный путь не существует.\")\n",
    "        return\n",
    "\n",
    "    if not os.path.isdir(path):\n",
    "        print(f\"Ошибка: {path} — это не каталог, а файл.\")\n",
    "        return\n",
    "\n",
    "    print(\"Каталоги:\")\n",
    "    print([d for d in os.listdir(path) if os.path.isdir(os.path.join(path, d))])\n",
    "\n",
    "    print(\"\\nФайлы:\")\n",
    "    print([f for f in os.listdir(path) if os.path.isfile(os.path.join(path, f))])\n",
    "\n",
    "    print(\"\\nВсе файлы и каталоги:\")\n",
    "    print(os.listdir(path))\n",
    "\n",
    "list_files_and_dirs('/Users/ernrsahar/Desktop/PP2_projects/lab6')"
   ]
  },
  {
   "cell_type": "code",
   "execution_count": 2,
   "metadata": {},
   "outputs": [
    {
     "name": "stdout",
     "output_type": "stream",
     "text": [
      "True\n",
      "True\n",
      "True\n",
      "True\n"
     ]
    }
   ],
   "source": [
    "import os\n",
    "\n",
    "def chek(path):\n",
    "    print(os.path.exists(path))\n",
    "    print(os.access(path, os.R_OK))\n",
    "    print(os.access(path, os.W_OK))\n",
    "    print(os.access(path, os.X_OK))\n",
    "\n",
    "chek('/Users/ernrsahar/Desktop/PP2_projects/lab6')"
   ]
  },
  {
   "cell_type": "code",
   "execution_count": 3,
   "metadata": {},
   "outputs": [
    {
     "name": "stdout",
     "output_type": "stream",
     "text": [
      "/Users/ernrsahar/Desktop/PP2_projects\n",
      "lab6\n"
     ]
    }
   ],
   "source": [
    "import os\n",
    "\n",
    "def rr(path):\n",
    "    if os.path.exists(path):\n",
    "        print(os.path.dirname(path))\n",
    "        print(os.path.basename(path))\n",
    "    else:\n",
    "        print(\"File is not exists\")\n",
    "\n",
    "rr('/Users/ernrsahar/Desktop/PP2_projects/lab6')"
   ]
  },
  {
   "cell_type": "code",
   "execution_count": 5,
   "metadata": {},
   "outputs": [
    {
     "data": {
      "text/plain": [
       "4"
      ]
     },
     "execution_count": 5,
     "metadata": {},
     "output_type": "execute_result"
    }
   ],
   "source": [
    "import os\n",
    "\n",
    "def ui(path):\n",
    "    try:\n",
    "        with open (path, 'r', encoding='utf-8') as file:\n",
    "            return sum(1 for line in file )\n",
    "    except FileNotFoundError:\n",
    "        print(\"File is not found\")\n",
    "        return 0\n",
    "ui('/Users/ernrsahar/Desktop/PP2_projects/lab6/read.txt')"
   ]
  },
  {
   "cell_type": "code",
   "execution_count": 9,
   "metadata": {},
   "outputs": [],
   "source": [
    "def jj(path, list):\n",
    "    with open(path, 'w', encoding='utf-8') as file:\n",
    "        for i in list:\n",
    "            file.write(str(i) + '\\n')\n",
    "\n",
    "jj('/Users/ernrsahar/Desktop/PP2_projects/lab6/read.txt', [\"jj\", \"kk\"])"
   ]
  },
  {
   "cell_type": "code",
   "execution_count": 10,
   "metadata": {},
   "outputs": [],
   "source": [
    "import string\n",
    "\n",
    "path='/Users/ernrsahar/Desktop/PP2_projects/lab6'\n",
    "\n",
    "for letter in string.ascii_uppercase:\n",
    "    with open(f\"{path}/{letter}.txt\",'w') as file:\n",
    "        file.write(f\"file {letter}.txt is create\")\n",
    "\n"
   ]
  },
  {
   "cell_type": "code",
   "execution_count": 11,
   "metadata": {},
   "outputs": [
    {
     "name": "stdout",
     "output_type": "stream",
     "text": [
      "Copy is finished\n"
     ]
    }
   ],
   "source": [
    "def tt(path1, path2):\n",
    "    try:\n",
    "        with open(path1, 'r', encoding='utf-8') as r , open(path2, 'w', encoding='utf-8') as w:\n",
    "            w.write(r.read())\n",
    "            print(\"Copy is finished\")\n",
    "    except FileNotFoundError:\n",
    "        print(\"File is not found\")\n",
    "\n",
    "tt('/Users/ernrsahar/Desktop/PP2_projects/lab6/read.txt', '/Users/ernrsahar/Desktop/PP2_projects/lab6/A.txt')"
   ]
  },
  {
   "cell_type": "code",
   "execution_count": 12,
   "metadata": {},
   "outputs": [],
   "source": [
    "import os\n",
    "def delete(path):\n",
    "    if os.path.exists(path):\n",
    "        if os.access(path, os.W_OK):\n",
    "            os.remove(path)\n",
    "        else:\n",
    "            print(\"Нет прав на удаление файла.\")\n",
    "    else:\n",
    "        print(\"Файл не существует.\")\n",
    "delete('/Users/ernrsahar/Desktop/PP2_projects/lab6/P.txt')\n",
    "    "
   ]
  }
 ],
 "metadata": {
  "kernelspec": {
   "display_name": "Python 3",
   "language": "python",
   "name": "python3"
  },
  "language_info": {
   "codemirror_mode": {
    "name": "ipython",
    "version": 3
   },
   "file_extension": ".py",
   "mimetype": "text/x-python",
   "name": "python",
   "nbconvert_exporter": "python",
   "pygments_lexer": "ipython3",
   "version": "3.13.0"
  }
 },
 "nbformat": 4,
 "nbformat_minor": 2
}
