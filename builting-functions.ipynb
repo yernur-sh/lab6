{
 "cells": [
  {
   "cell_type": "markdown",
   "metadata": {},
   "source": [
    "BUILTIN-FUNCTIONS"
   ]
  },
  {
   "cell_type": "code",
   "execution_count": null,
   "metadata": {},
   "outputs": [
    {
     "name": "stdout",
     "output_type": "stream",
     "text": [
      "120\n"
     ]
    }
   ],
   "source": [
    "import math\n",
    "\n",
    "def multiply_list(lst):\n",
    "    return math.prod(lst)\n",
    "\n",
    "numbers = [2, 3, 4, 5]\n",
    "print(multiply_list(numbers))  \n"
   ]
  },
  {
   "cell_type": "code",
   "execution_count": 2,
   "metadata": {},
   "outputs": [
    {
     "name": "stdout",
     "output_type": "stream",
     "text": [
      "Uppercase: 2, Lowercase: 8\n"
     ]
    }
   ],
   "source": [
    "def count_case(s):\n",
    "    return sum(map(str.isupper, s)), sum(map(str.islower, s))\n",
    "\n",
    "\n",
    "text = \"Hello World!\"\n",
    "upper, lower = count_case(text)\n",
    "print(f\"Uppercase: {upper}, Lowercase: {lower}\") \n"
   ]
  },
  {
   "cell_type": "code",
   "execution_count": 3,
   "metadata": {},
   "outputs": [
    {
     "name": "stdout",
     "output_type": "stream",
     "text": [
      "True\n",
      "False\n"
     ]
    }
   ],
   "source": [
    "def is_palindrome(s):\n",
    "    return s == s[::-1]\n",
    "\n",
    "\n",
    "word = \"racecar\"\n",
    "print(is_palindrome(word))  \n",
    "\n",
    "word2 = \"hello\"\n",
    "print(is_palindrome(word2)) \n"
   ]
  },
  {
   "cell_type": "code",
   "execution_count": 5,
   "metadata": {},
   "outputs": [
    {
     "name": "stdout",
     "output_type": "stream",
     "text": [
      "Square root of 25100 after 2123 milliseconds is 158.42979517754858\n"
     ]
    }
   ],
   "source": [
    "import time\n",
    "import math\n",
    "\n",
    "def delayed_sqrt(number, delay_ms):\n",
    "    time.sleep(delay_ms / 1000)  \n",
    "    return math.sqrt(number)\n",
    "\n",
    "\n",
    "num = 25100\n",
    "delay = 2123 \n",
    "result = delayed_sqrt(num, delay)\n",
    "print(f\"Square root of {num} after {delay} milliseconds is {result}\")\n"
   ]
  },
  {
   "cell_type": "code",
   "execution_count": null,
   "metadata": {},
   "outputs": [
    {
     "name": "stdout",
     "output_type": "stream",
     "text": [
      "True\n",
      "False\n"
     ]
    }
   ],
   "source": [
    "turple=(1,1,True)\n",
    "print(all(turple))\n",
    "t=(0,0,False)\n",
    "print(all(t))\n"
   ]
  }
 ],
 "metadata": {
  "kernelspec": {
   "display_name": "Python 3",
   "language": "python",
   "name": "python3"
  },
  "language_info": {
   "codemirror_mode": {
    "name": "ipython",
    "version": 3
   },
   "file_extension": ".py",
   "mimetype": "text/x-python",
   "name": "python",
   "nbconvert_exporter": "python",
   "pygments_lexer": "ipython3",
   "version": "3.13.0"
  }
 },
 "nbformat": 4,
 "nbformat_minor": 2
}
